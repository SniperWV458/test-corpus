{
 "cells": [
  {
   "cell_type": "code",
   "execution_count": 1,
   "metadata": {},
   "outputs": [],
   "source": [
    "import os\n",
    "import time\n",
    "import pandas as pd\n",
    "import numpy as np\n",
    "import openai\n",
    "from tqdm.auto import tqdm\n",
    "\n",
    "full_df = pd.read_csv(\"full_data.csv\")\n"
   ]
  },
  {
   "cell_type": "code",
   "execution_count": 2,
   "metadata": {},
   "outputs": [],
   "source": [
    "df = full_df.sample(n = 150,ignore_index = True)"
   ]
  },
  {
   "cell_type": "code",
   "execution_count": 3,
   "metadata": {},
   "outputs": [
    {
     "data": {
      "text/html": [
       "<div>\n",
       "<style scoped>\n",
       "    .dataframe tbody tr th:only-of-type {\n",
       "        vertical-align: middle;\n",
       "    }\n",
       "\n",
       "    .dataframe tbody tr th {\n",
       "        vertical-align: top;\n",
       "    }\n",
       "\n",
       "    .dataframe thead th {\n",
       "        text-align: right;\n",
       "    }\n",
       "</style>\n",
       "<table border=\"1\" class=\"dataframe\">\n",
       "  <thead>\n",
       "    <tr style=\"text-align: right;\">\n",
       "      <th></th>\n",
       "      <th>text</th>\n",
       "      <th>label</th>\n",
       "    </tr>\n",
       "  </thead>\n",
       "  <tbody>\n",
       "    <tr>\n",
       "      <th>0</th>\n",
       "      <td>This may sound sad but I've gotten so used to ...</td>\n",
       "      <td>0</td>\n",
       "    </tr>\n",
       "    <tr>\n",
       "      <th>1</th>\n",
       "      <td>The tragedy of only thinking up hilarious twee...</td>\n",
       "      <td>0</td>\n",
       "    </tr>\n",
       "    <tr>\n",
       "      <th>2</th>\n",
       "      <td>Are you interested in interning with Nike? Nik...</td>\n",
       "      <td>2</td>\n",
       "    </tr>\n",
       "    <tr>\n",
       "      <th>3</th>\n",
       "      <td>It's #Wishlist Wednesday! Amazon Prime Day is ...</td>\n",
       "      <td>2</td>\n",
       "    </tr>\n",
       "    <tr>\n",
       "      <th>4</th>\n",
       "      <td>There are many more Catholics who DO NOT agree...</td>\n",
       "      <td>0</td>\n",
       "    </tr>\n",
       "    <tr>\n",
       "      <th>...</th>\n",
       "      <td>...</td>\n",
       "      <td>...</td>\n",
       "    </tr>\n",
       "    <tr>\n",
       "      <th>145</th>\n",
       "      <td>I seriously might just take the fam to Disneyl...</td>\n",
       "      <td>2</td>\n",
       "    </tr>\n",
       "    <tr>\n",
       "      <th>146</th>\n",
       "      <td>@user You can go home now. Nothing left to twe...</td>\n",
       "      <td>1</td>\n",
       "    </tr>\n",
       "    <tr>\n",
       "      <th>147</th>\n",
       "      <td>Nice! @user joins @user as Platinum member by ...</td>\n",
       "      <td>2</td>\n",
       "    </tr>\n",
       "    <tr>\n",
       "      <th>148</th>\n",
       "      <td>@user @user The way they are chessing Donald T...</td>\n",
       "      <td>1</td>\n",
       "    </tr>\n",
       "    <tr>\n",
       "      <th>149</th>\n",
       "      <td>Bob Dylan sings his 3rd highest charting singl...</td>\n",
       "      <td>2</td>\n",
       "    </tr>\n",
       "  </tbody>\n",
       "</table>\n",
       "<p>150 rows × 2 columns</p>\n",
       "</div>"
      ],
      "text/plain": [
       "                                                  text  label\n",
       "0    This may sound sad but I've gotten so used to ...      0\n",
       "1    The tragedy of only thinking up hilarious twee...      0\n",
       "2    Are you interested in interning with Nike? Nik...      2\n",
       "3    It's #Wishlist Wednesday! Amazon Prime Day is ...      2\n",
       "4    There are many more Catholics who DO NOT agree...      0\n",
       "..                                                 ...    ...\n",
       "145  I seriously might just take the fam to Disneyl...      2\n",
       "146  @user You can go home now. Nothing left to twe...      1\n",
       "147  Nice! @user joins @user as Platinum member by ...      2\n",
       "148  @user @user The way they are chessing Donald T...      1\n",
       "149  Bob Dylan sings his 3rd highest charting singl...      2\n",
       "\n",
       "[150 rows x 2 columns]"
      ]
     },
     "execution_count": 3,
     "metadata": {},
     "output_type": "execute_result"
    }
   ],
   "source": [
    "df"
   ]
  },
  {
   "cell_type": "code",
   "execution_count": 4,
   "metadata": {},
   "outputs": [],
   "source": [
    "def accuracy(pred, label):\n",
    "    \"\"\"\n",
    "    Calulates the accuracy\n",
    "    pred: predicted label\n",
    "    label: True label\n",
    "    \n",
    "    return: accuracy\n",
    "    \"\"\"\n",
    "    cors = [p == l for p, l in zip(pred, label)]\n",
    "    return np.mean(cors)"
   ]
  },
  {
   "cell_type": "code",
   "execution_count": 6,
   "metadata": {},
   "outputs": [
    {
     "data": {
      "application/vnd.jupyter.widget-view+json": {
       "model_id": "1df060c591014ac0b84a0186464418a1",
       "version_major": 2,
       "version_minor": 0
      },
      "text/plain": [
       "  0%|          | 0/10 [00:00<?, ?it/s]"
      ]
     },
     "metadata": {},
     "output_type": "display_data"
    },
    {
     "data": {
      "application/vnd.jupyter.widget-view+json": {
       "model_id": "f8624ddc4f3e45418661defa066dd94f",
       "version_major": 2,
       "version_minor": 0
      },
      "text/plain": [
       "  0%|          | 0/150 [00:00<?, ?it/s]"
      ]
     },
     "metadata": {},
     "output_type": "display_data"
    },
    {
     "name": "stdout",
     "output_type": "stream",
     "text": [
      "content: #SteveBannon is the Racist Far-Right Internet Personified — and He Ha… \n",
      "Content filtering policies error, skip the content\n",
      "content: Satan worshipers align with Planned Parenthood to defend the practice of chopping up babies for profit \n",
      "Content filtering policies error, skip the content\n",
      "content: #Aleppo slaughter: #Russia #Assad guilty of bombing civilians, world guilty of doing nothing #UN #POTUS #EU @user \n",
      "Content filtering policies error, skip the content\n",
      "content: The most conclusive argument against the bleeding hearts and why logic doesn't hold for them in Yakub's hanging. \n",
      "Content filtering policies error, skip the content\n",
      "content: With a gun to my head, The Stranger Song might be my favourite Leonard Cohen song... only because it's emotional trajectory is so familiar \n",
      "Content filtering policies error, skip the content\n",
      "content: @user @user sweet jesus valentines day is gonna be a too lewd for titter \n",
      "Content filtering policies error, skip the content\n",
      "content: @user @user chipotle also doesn't pay minimum wage. if you want to form a retarded argument based on assumptions go ahead. \n",
      "Content filtering policies error, skip the content\n",
      "[0.6223776223776224]\n"
     ]
    },
    {
     "data": {
      "application/vnd.jupyter.widget-view+json": {
       "model_id": "bf704d045e5c46d583d394f03c3040ae",
       "version_major": 2,
       "version_minor": 0
      },
      "text/plain": [
       "  0%|          | 0/150 [00:00<?, ?it/s]"
      ]
     },
     "metadata": {},
     "output_type": "display_data"
    },
    {
     "name": "stdout",
     "output_type": "stream",
     "text": [
      "content: #SteveBannon is the Racist Far-Right Internet Personified — and He Ha… \n",
      "Content filtering policies error, skip the content\n",
      "content: Satan worshipers align with Planned Parenthood to defend the practice of chopping up babies for profit \n",
      "Content filtering policies error, skip the content\n",
      "content: #Aleppo slaughter: #Russia #Assad guilty of bombing civilians, world guilty of doing nothing #UN #POTUS #EU @user \n",
      "Content filtering policies error, skip the content\n",
      "content: The most conclusive argument against the bleeding hearts and why logic doesn't hold for them in Yakub's hanging. \n",
      "Content filtering policies error, skip the content\n",
      "content: With a gun to my head, The Stranger Song might be my favourite Leonard Cohen song... only because it's emotional trajectory is so familiar \n",
      "Content filtering policies error, skip the content\n",
      "content: @user @user sweet jesus valentines day is gonna be a too lewd for titter \n",
      "Content filtering policies error, skip the content\n",
      "content: @user @user chipotle also doesn't pay minimum wage. if you want to form a retarded argument based on assumptions go ahead. \n",
      "Content filtering policies error, skip the content\n",
      "[0.6223776223776224, 0.6433566433566433]\n"
     ]
    },
    {
     "data": {
      "application/vnd.jupyter.widget-view+json": {
       "model_id": "2de07c6506054fc3b18f3e8ea3b9258a",
       "version_major": 2,
       "version_minor": 0
      },
      "text/plain": [
       "  0%|          | 0/150 [00:00<?, ?it/s]"
      ]
     },
     "metadata": {},
     "output_type": "display_data"
    },
    {
     "name": "stdout",
     "output_type": "stream",
     "text": [
      "content: #SteveBannon is the Racist Far-Right Internet Personified — and He Ha… \n",
      "Content filtering policies error, skip the content\n",
      "content: Satan worshipers align with Planned Parenthood to defend the practice of chopping up babies for profit \n",
      "Content filtering policies error, skip the content\n",
      "content: #Aleppo slaughter: #Russia #Assad guilty of bombing civilians, world guilty of doing nothing #UN #POTUS #EU @user \n",
      "Content filtering policies error, skip the content\n",
      "content: The most conclusive argument against the bleeding hearts and why logic doesn't hold for them in Yakub's hanging. \n",
      "Content filtering policies error, skip the content\n",
      "content: With a gun to my head, The Stranger Song might be my favourite Leonard Cohen song... only because it's emotional trajectory is so familiar \n",
      "Content filtering policies error, skip the content\n",
      "content: @user @user sweet jesus valentines day is gonna be a too lewd for titter \n",
      "Content filtering policies error, skip the content\n",
      "content: @user @user chipotle also doesn't pay minimum wage. if you want to form a retarded argument based on assumptions go ahead. \n",
      "Content filtering policies error, skip the content\n",
      "[0.6223776223776224, 0.6433566433566433, 0.6083916083916084]\n"
     ]
    },
    {
     "data": {
      "application/vnd.jupyter.widget-view+json": {
       "model_id": "6eae6bee910647198dff69910e7f5b86",
       "version_major": 2,
       "version_minor": 0
      },
      "text/plain": [
       "  0%|          | 0/150 [00:00<?, ?it/s]"
      ]
     },
     "metadata": {},
     "output_type": "display_data"
    },
    {
     "name": "stdout",
     "output_type": "stream",
     "text": [
      "content: #SteveBannon is the Racist Far-Right Internet Personified — and He Ha… \n",
      "Content filtering policies error, skip the content\n",
      "content: Satan worshipers align with Planned Parenthood to defend the practice of chopping up babies for profit \n",
      "Content filtering policies error, skip the content\n",
      "content: #Aleppo slaughter: #Russia #Assad guilty of bombing civilians, world guilty of doing nothing #UN #POTUS #EU @user \n",
      "Content filtering policies error, skip the content\n",
      "content: The most conclusive argument against the bleeding hearts and why logic doesn't hold for them in Yakub's hanging. \n",
      "Content filtering policies error, skip the content\n",
      "content: With a gun to my head, The Stranger Song might be my favourite Leonard Cohen song... only because it's emotional trajectory is so familiar \n",
      "Content filtering policies error, skip the content\n",
      "content: @user @user sweet jesus valentines day is gonna be a too lewd for titter \n",
      "Content filtering policies error, skip the content\n",
      "content: @user @user chipotle also doesn't pay minimum wage. if you want to form a retarded argument based on assumptions go ahead. \n",
      "Content filtering policies error, skip the content\n",
      "[0.6223776223776224, 0.6433566433566433, 0.6083916083916084, 0.6293706293706294]\n"
     ]
    },
    {
     "data": {
      "application/vnd.jupyter.widget-view+json": {
       "model_id": "152f02d65d1847039cee7e8c934003d0",
       "version_major": 2,
       "version_minor": 0
      },
      "text/plain": [
       "  0%|          | 0/150 [00:00<?, ?it/s]"
      ]
     },
     "metadata": {},
     "output_type": "display_data"
    },
    {
     "name": "stdout",
     "output_type": "stream",
     "text": [
      "content: #SteveBannon is the Racist Far-Right Internet Personified — and He Ha… \n",
      "Content filtering policies error, skip the content\n",
      "content: Satan worshipers align with Planned Parenthood to defend the practice of chopping up babies for profit \n",
      "Content filtering policies error, skip the content\n",
      "content: #Aleppo slaughter: #Russia #Assad guilty of bombing civilians, world guilty of doing nothing #UN #POTUS #EU @user \n",
      "Content filtering policies error, skip the content\n",
      "content: The most conclusive argument against the bleeding hearts and why logic doesn't hold for them in Yakub's hanging. \n",
      "Content filtering policies error, skip the content\n",
      "content: With a gun to my head, The Stranger Song might be my favourite Leonard Cohen song... only because it's emotional trajectory is so familiar \n",
      "Content filtering policies error, skip the content\n",
      "content: @user @user sweet jesus valentines day is gonna be a too lewd for titter \n",
      "Content filtering policies error, skip the content\n",
      "content: @user @user chipotle also doesn't pay minimum wage. if you want to form a retarded argument based on assumptions go ahead. \n",
      "Content filtering policies error, skip the content\n",
      "[0.6223776223776224, 0.6433566433566433, 0.6083916083916084, 0.6293706293706294, 0.6363636363636364]\n"
     ]
    },
    {
     "data": {
      "application/vnd.jupyter.widget-view+json": {
       "model_id": "097e528bcbb8492f9829ecd7514a6108",
       "version_major": 2,
       "version_minor": 0
      },
      "text/plain": [
       "  0%|          | 0/150 [00:00<?, ?it/s]"
      ]
     },
     "metadata": {},
     "output_type": "display_data"
    },
    {
     "name": "stdout",
     "output_type": "stream",
     "text": [
      "content: #SteveBannon is the Racist Far-Right Internet Personified — and He Ha… \n",
      "Content filtering policies error, skip the content\n",
      "content: Satan worshipers align with Planned Parenthood to defend the practice of chopping up babies for profit \n",
      "Content filtering policies error, skip the content\n",
      "content: #Aleppo slaughter: #Russia #Assad guilty of bombing civilians, world guilty of doing nothing #UN #POTUS #EU @user \n",
      "Content filtering policies error, skip the content\n",
      "content: The most conclusive argument against the bleeding hearts and why logic doesn't hold for them in Yakub's hanging. \n",
      "Content filtering policies error, skip the content\n",
      "content: With a gun to my head, The Stranger Song might be my favourite Leonard Cohen song... only because it's emotional trajectory is so familiar \n",
      "Content filtering policies error, skip the content\n",
      "content: @user @user sweet jesus valentines day is gonna be a too lewd for titter \n",
      "Content filtering policies error, skip the content\n",
      "content: @user @user chipotle also doesn't pay minimum wage. if you want to form a retarded argument based on assumptions go ahead. \n",
      "Content filtering policies error, skip the content\n",
      "[0.6223776223776224, 0.6433566433566433, 0.6083916083916084, 0.6293706293706294, 0.6363636363636364, 0.6223776223776224]\n"
     ]
    },
    {
     "data": {
      "application/vnd.jupyter.widget-view+json": {
       "model_id": "a3e3696a18be4cdcb79add9f13a6a0a5",
       "version_major": 2,
       "version_minor": 0
      },
      "text/plain": [
       "  0%|          | 0/150 [00:00<?, ?it/s]"
      ]
     },
     "metadata": {},
     "output_type": "display_data"
    },
    {
     "name": "stdout",
     "output_type": "stream",
     "text": [
      "content: #SteveBannon is the Racist Far-Right Internet Personified — and He Ha… \n",
      "Content filtering policies error, skip the content\n",
      "content: Satan worshipers align with Planned Parenthood to defend the practice of chopping up babies for profit \n",
      "Content filtering policies error, skip the content\n",
      "content: #Aleppo slaughter: #Russia #Assad guilty of bombing civilians, world guilty of doing nothing #UN #POTUS #EU @user \n",
      "Content filtering policies error, skip the content\n",
      "content: The most conclusive argument against the bleeding hearts and why logic doesn't hold for them in Yakub's hanging. \n",
      "Content filtering policies error, skip the content\n",
      "content: With a gun to my head, The Stranger Song might be my favourite Leonard Cohen song... only because it's emotional trajectory is so familiar \n",
      "Content filtering policies error, skip the content\n",
      "content: @user @user sweet jesus valentines day is gonna be a too lewd for titter \n",
      "Content filtering policies error, skip the content\n",
      "content: @user @user chipotle also doesn't pay minimum wage. if you want to form a retarded argument based on assumptions go ahead. \n",
      "Content filtering policies error, skip the content\n",
      "[0.6223776223776224, 0.6433566433566433, 0.6083916083916084, 0.6293706293706294, 0.6363636363636364, 0.6223776223776224, 0.6083916083916084]\n"
     ]
    },
    {
     "data": {
      "application/vnd.jupyter.widget-view+json": {
       "model_id": "226e9cd7ad9d4ca6848754ba252101f8",
       "version_major": 2,
       "version_minor": 0
      },
      "text/plain": [
       "  0%|          | 0/150 [00:00<?, ?it/s]"
      ]
     },
     "metadata": {},
     "output_type": "display_data"
    },
    {
     "name": "stdout",
     "output_type": "stream",
     "text": [
      "content: #SteveBannon is the Racist Far-Right Internet Personified — and He Ha… \n",
      "Content filtering policies error, skip the content\n",
      "content: Satan worshipers align with Planned Parenthood to defend the practice of chopping up babies for profit \n",
      "Content filtering policies error, skip the content\n",
      "content: #Aleppo slaughter: #Russia #Assad guilty of bombing civilians, world guilty of doing nothing #UN #POTUS #EU @user \n",
      "Content filtering policies error, skip the content\n",
      "content: The most conclusive argument against the bleeding hearts and why logic doesn't hold for them in Yakub's hanging. \n",
      "Content filtering policies error, skip the content\n",
      "content: With a gun to my head, The Stranger Song might be my favourite Leonard Cohen song... only because it's emotional trajectory is so familiar \n",
      "Content filtering policies error, skip the content\n",
      "content: @user @user sweet jesus valentines day is gonna be a too lewd for titter \n",
      "Content filtering policies error, skip the content\n",
      "content: @user @user chipotle also doesn't pay minimum wage. if you want to form a retarded argument based on assumptions go ahead. \n",
      "Content filtering policies error, skip the content\n",
      "[0.6223776223776224, 0.6433566433566433, 0.6083916083916084, 0.6293706293706294, 0.6363636363636364, 0.6223776223776224, 0.6083916083916084, 0.6013986013986014]\n"
     ]
    },
    {
     "data": {
      "application/vnd.jupyter.widget-view+json": {
       "model_id": "35e4975bd7364ba3aebc9d197c9db702",
       "version_major": 2,
       "version_minor": 0
      },
      "text/plain": [
       "  0%|          | 0/150 [00:00<?, ?it/s]"
      ]
     },
     "metadata": {},
     "output_type": "display_data"
    },
    {
     "name": "stdout",
     "output_type": "stream",
     "text": [
      "content: #SteveBannon is the Racist Far-Right Internet Personified — and He Ha… \n",
      "Content filtering policies error, skip the content\n",
      "content: Satan worshipers align with Planned Parenthood to defend the practice of chopping up babies for profit \n",
      "Content filtering policies error, skip the content\n",
      "content: #Aleppo slaughter: #Russia #Assad guilty of bombing civilians, world guilty of doing nothing #UN #POTUS #EU @user \n",
      "Content filtering policies error, skip the content\n",
      "content: The most conclusive argument against the bleeding hearts and why logic doesn't hold for them in Yakub's hanging. \n",
      "Content filtering policies error, skip the content\n",
      "content: With a gun to my head, The Stranger Song might be my favourite Leonard Cohen song... only because it's emotional trajectory is so familiar \n",
      "Content filtering policies error, skip the content\n",
      "content: @user @user sweet jesus valentines day is gonna be a too lewd for titter \n",
      "Content filtering policies error, skip the content\n",
      "content: @user @user chipotle also doesn't pay minimum wage. if you want to form a retarded argument based on assumptions go ahead. \n",
      "Content filtering policies error, skip the content\n",
      "[0.6223776223776224, 0.6433566433566433, 0.6083916083916084, 0.6293706293706294, 0.6363636363636364, 0.6223776223776224, 0.6083916083916084, 0.6013986013986014, 0.6153846153846154]\n"
     ]
    },
    {
     "data": {
      "application/vnd.jupyter.widget-view+json": {
       "model_id": "989f1fac504142d198059dcc613c1cd3",
       "version_major": 2,
       "version_minor": 0
      },
      "text/plain": [
       "  0%|          | 0/150 [00:00<?, ?it/s]"
      ]
     },
     "metadata": {},
     "output_type": "display_data"
    },
    {
     "name": "stdout",
     "output_type": "stream",
     "text": [
      "content: #SteveBannon is the Racist Far-Right Internet Personified — and He Ha… \n",
      "Content filtering policies error, skip the content\n",
      "content: Satan worshipers align with Planned Parenthood to defend the practice of chopping up babies for profit \n",
      "Content filtering policies error, skip the content\n",
      "content: #Aleppo slaughter: #Russia #Assad guilty of bombing civilians, world guilty of doing nothing #UN #POTUS #EU @user \n",
      "Content filtering policies error, skip the content\n",
      "content: The most conclusive argument against the bleeding hearts and why logic doesn't hold for them in Yakub's hanging. \n",
      "Content filtering policies error, skip the content\n",
      "content: With a gun to my head, The Stranger Song might be my favourite Leonard Cohen song... only because it's emotional trajectory is so familiar \n",
      "Content filtering policies error, skip the content\n",
      "content: @user @user sweet jesus valentines day is gonna be a too lewd for titter \n",
      "Content filtering policies error, skip the content\n",
      "content: @user @user chipotle also doesn't pay minimum wage. if you want to form a retarded argument based on assumptions go ahead. \n",
      "Content filtering policies error, skip the content\n",
      "[0.6223776223776224, 0.6433566433566433, 0.6083916083916084, 0.6293706293706294, 0.6363636363636364, 0.6223776223776224, 0.6083916083916084, 0.6013986013986014, 0.6153846153846154, 0.6223776223776224]\n",
      "average accuracy over  10  times of test is : 0.6209790209790209\n"
     ]
    }
   ],
   "source": [
    "# 10 times 100 samples\n",
    "openai.api_type = \"azure\" \n",
    "openai.api_base = \"https://bsaiuks.openai.azure.com/\"\n",
    "openai.api_version = \"2023-03-15-preview\" \n",
    "openai.api_key = \"\"\n",
    "\n",
    "acc = []\n",
    "t = 10\n",
    "for  turn in tqdm(range(t)):\n",
    "    \n",
    "    #df = full_df.sample(n = 100,ignore_index = True)\n",
    "    i = 0\n",
    "    length = len(df)\n",
    "    pred = []\n",
    "    true_label = [i for i in range(0,length)]\n",
    "    pbar = tqdm(total = length, miniters=10)\n",
    "\n",
    "    while i < length:\n",
    "        try:\n",
    "            sentence_input = df.iloc[:,0][i]\n",
    "            response = openai.ChatCompletion.create( \n",
    "            engine=\"gpt-35-turbo\", \n",
    "            messages = [{\"role\":\"system\",\"content\":\"You will be provided with a sentence, \\\n",
    "                                                    and your task is to classify its sentiment as \\\n",
    "                                                    positive with label 2,or natural with label 1, negative with label 0.\\\n",
    "                                                    Answer label in ()\"},\n",
    "                        {\"role\":\"user\",\"content\":sentence_input},], \n",
    "                        temperature=0.7, \n",
    "                        max_tokens=800, \n",
    "                        top_p=0.95, \n",
    "                        frequency_penalty=0,\n",
    "                        presence_penalty=0, \n",
    "                        stop=None\n",
    "                        )\n",
    "            \n",
    "            p = response[\"choices\"][0][\"message\"].content\n",
    "            pred.append(p[p.find(\"(\")+1:p.find(\")\")])\n",
    "            i += 1\n",
    "            pbar.update()\n",
    "            \n",
    "        except:\n",
    "            print(\"content: \" + sentence_input + \"\\nContent filtering policies error, skip the content\")\n",
    "            time.sleep(1)\n",
    "            true_label.remove(i)\n",
    "            i += 1\n",
    "            pbar.update()\n",
    "        #except:\n",
    "        #    print(\"other error\")\n",
    "        #    time.sleep(1)\n",
    "    pbar.close()\n",
    "    label = [str(x) for x in df.iloc[:,1][true_label ]]\n",
    "    acc.append(accuracy(pred, label))\n",
    "    print(acc)\n",
    "print(\"average accuracy over \", t ,\" times of test is :\",np.mean(acc))"
   ]
  },
  {
   "cell_type": "code",
   "execution_count": 7,
   "metadata": {},
   "outputs": [],
   "source": [
    "accs = [str(k) for k in acc]\n",
    "with open(r\"result.txt\", 'w') as fp:\n",
    "    fp.write('\\n'.join(accs))"
   ]
  },
  {
   "cell_type": "code",
   "execution_count": 65,
   "metadata": {},
   "outputs": [
    {
     "name": "stdout",
     "output_type": "stream",
     "text": [
      "Based upon its unique fiber expertise and innovative approach , the company has a strong market position in several business areas in which it operates . 2\n",
      "Finnish software developer Done Solutions Oyj said its net profit increased to 3.5 mln euro ( $ 4.6 mln ) in 2006 from 2.3 mln euro ( $ 3.0 mln ) in 2005 . 2\n",
      "$ETN UPGRADE today by MS to overweight.  Excellent company and leadership 2\n",
      "\n"
     ]
    }
   ],
   "source": [
    "#examples generate\n",
    "few_shot_examples = \"\"\n",
    "for i in range(0,3):\n",
    "    few_shot_examples = few_shot_examples + df[\"Sentence\"][i] + \" \" + str(df['Sentiment'][i]) + \"\\n\"\n",
    "print(few_shot_examples)"
   ]
  },
  {
   "cell_type": "code",
   "execution_count": 9,
   "metadata": {},
   "outputs": [
    {
     "data": {
      "text/plain": [
       "'1'"
      ]
     },
     "execution_count": 9,
     "metadata": {},
     "output_type": "execute_result"
    }
   ],
   "source": [
    "#test for 3-shots evaluation    \n",
    "openai.api_type = \"azure\" \n",
    "openai.api_base = \"https://bsaiuks.openai.azure.com/\"\n",
    "openai.api_version = \"2023-03-15-preview\" \n",
    "openai.api_key = \"openai_key\"\n",
    "\n",
    "sentence_input = full_df['Sentence'][27]\n",
    "response = openai.ChatCompletion.create( \n",
    "engine=\"gpt-4\", \n",
    "messages = [{\"role\":\"system\",\"content\":\"You will be provided with a sentence, \\\n",
    "                                                and your task is to classify its sentiment as \\\n",
    "                                                positive with label 2,or neutral with label 1, or negative with label 0. \\\n",
    "                                                Answer in ()\"},\n",
    "                    {\"role\":\"user\",\"content\":sentence_input},], \n",
    "                    temperature=0.7, \n",
    "                    max_tokens=800, \n",
    "                    top_p=0.95, \n",
    "                    frequency_penalty=0,\n",
    "                    presence_penalty=0, \n",
    "                    stop=None\n",
    "                    )\n",
    "p = response[\"choices\"][0][\"message\"].content\n",
    "p = p[p.find(\"(\")+1:p.find(\")\")]\n",
    "p"
   ]
  }
 ],
 "metadata": {
  "kernelspec": {
   "display_name": "llama2-7b",
   "language": "python",
   "name": "python3"
  },
  "language_info": {
   "codemirror_mode": {
    "name": "ipython",
    "version": 3
   },
   "file_extension": ".py",
   "mimetype": "text/x-python",
   "name": "python",
   "nbconvert_exporter": "python",
   "pygments_lexer": "ipython3",
   "version": "3.11.4"
  },
  "orig_nbformat": 4
 },
 "nbformat": 4,
 "nbformat_minor": 2
}
