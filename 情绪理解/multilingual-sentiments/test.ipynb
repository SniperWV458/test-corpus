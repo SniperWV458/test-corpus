{
 "cells": [
  {
   "cell_type": "code",
   "execution_count": 1,
   "metadata": {},
   "outputs": [],
   "source": [
    "import os\n",
    "import time\n",
    "import pandas as pd\n",
    "import numpy as np\n",
    "import openai\n",
    "from tqdm.auto import tqdm\n",
    "\n",
    "full_df = pd.read_csv(\"full_data.csv\")\n"
   ]
  },
  {
   "cell_type": "code",
   "execution_count": 2,
   "metadata": {},
   "outputs": [
    {
     "data": {
      "text/html": [
       "<div>\n",
       "<style scoped>\n",
       "    .dataframe tbody tr th:only-of-type {\n",
       "        vertical-align: middle;\n",
       "    }\n",
       "\n",
       "    .dataframe tbody tr th {\n",
       "        vertical-align: top;\n",
       "    }\n",
       "\n",
       "    .dataframe thead th {\n",
       "        text-align: right;\n",
       "    }\n",
       "</style>\n",
       "<table border=\"1\" class=\"dataframe\">\n",
       "  <thead>\n",
       "    <tr style=\"text-align: right;\">\n",
       "      <th></th>\n",
       "      <th>text</th>\n",
       "      <th>label</th>\n",
       "    </tr>\n",
       "  </thead>\n",
       "  <tbody>\n",
       "    <tr>\n",
       "      <th>0</th>\n",
       "      <td>okay i\\u2019m sorry but TAYLOR SWIFT LOOKS NOT...</td>\n",
       "      <td>0</td>\n",
       "    </tr>\n",
       "    <tr>\n",
       "      <th>1</th>\n",
       "      <td>@user the DC comics site has Batman 44 release...</td>\n",
       "      <td>1</td>\n",
       "    </tr>\n",
       "    <tr>\n",
       "      <th>2</th>\n",
       "      <td>\"Frank Gaffrey\\u002c Cliff May\\u002c Steve Eme...</td>\n",
       "      <td>2</td>\n",
       "    </tr>\n",
       "    <tr>\n",
       "      <th>3</th>\n",
       "      <td>The tragedy of only thinking up hilarious twee...</td>\n",
       "      <td>0</td>\n",
       "    </tr>\n",
       "    <tr>\n",
       "      <th>4</th>\n",
       "      <td>\"Oliseh meets with Victor Moses in London: Sup...</td>\n",
       "      <td>1</td>\n",
       "    </tr>\n",
       "    <tr>\n",
       "      <th>...</th>\n",
       "      <td>...</td>\n",
       "      <td>...</td>\n",
       "    </tr>\n",
       "    <tr>\n",
       "      <th>3028</th>\n",
       "      <td>@user If you were considering a tfr to Spurs w...</td>\n",
       "      <td>1</td>\n",
       "    </tr>\n",
       "    <tr>\n",
       "      <th>3029</th>\n",
       "      <td>I love competing in the Miss America\\u2019s Ou...</td>\n",
       "      <td>2</td>\n",
       "    </tr>\n",
       "    <tr>\n",
       "      <th>3030</th>\n",
       "      <td>Hulk Hogan may be a real American but he's no ...</td>\n",
       "      <td>0</td>\n",
       "    </tr>\n",
       "    <tr>\n",
       "      <th>3031</th>\n",
       "      <td>Don't forget to sign up for the DC Walk to End...</td>\n",
       "      <td>1</td>\n",
       "    </tr>\n",
       "    <tr>\n",
       "      <th>3032</th>\n",
       "      <td>Federer beats Murray 6-4, 7-6(6) to reach #Cin...</td>\n",
       "      <td>2</td>\n",
       "    </tr>\n",
       "  </tbody>\n",
       "</table>\n",
       "<p>3033 rows × 2 columns</p>\n",
       "</div>"
      ],
      "text/plain": [
       "                                                   text  label\n",
       "0     okay i\\u2019m sorry but TAYLOR SWIFT LOOKS NOT...      0\n",
       "1     @user the DC comics site has Batman 44 release...      1\n",
       "2     \"Frank Gaffrey\\u002c Cliff May\\u002c Steve Eme...      2\n",
       "3     The tragedy of only thinking up hilarious twee...      0\n",
       "4     \"Oliseh meets with Victor Moses in London: Sup...      1\n",
       "...                                                 ...    ...\n",
       "3028  @user If you were considering a tfr to Spurs w...      1\n",
       "3029  I love competing in the Miss America\\u2019s Ou...      2\n",
       "3030  Hulk Hogan may be a real American but he's no ...      0\n",
       "3031  Don't forget to sign up for the DC Walk to End...      1\n",
       "3032  Federer beats Murray 6-4, 7-6(6) to reach #Cin...      2\n",
       "\n",
       "[3033 rows x 2 columns]"
      ]
     },
     "execution_count": 2,
     "metadata": {},
     "output_type": "execute_result"
    }
   ],
   "source": [
    "full_df"
   ]
  },
  {
   "cell_type": "code",
   "execution_count": 3,
   "metadata": {},
   "outputs": [],
   "source": [
    "def accuracy(pred, label):\n",
    "    \"\"\"\n",
    "    Calulates the accuracy\n",
    "    pred: predicted label\n",
    "    label: True label\n",
    "    \n",
    "    return: accuracy\n",
    "    \"\"\"\n",
    "    cors = [p == l for p, l in zip(pred, label)]\n",
    "    return np.mean(cors)"
   ]
  },
  {
   "cell_type": "code",
   "execution_count": 4,
   "metadata": {},
   "outputs": [
    {
     "data": {
      "application/vnd.jupyter.widget-view+json": {
       "model_id": "73efd212001e45b6baeaf26742759909",
       "version_major": 2,
       "version_minor": 0
      },
      "text/plain": [
       "  0%|          | 0/10 [00:00<?, ?it/s]"
      ]
     },
     "metadata": {},
     "output_type": "display_data"
    },
    {
     "data": {
      "application/vnd.jupyter.widget-view+json": {
       "model_id": "ddf6b0d3c4e349ecbe003d33072981b4",
       "version_major": 2,
       "version_minor": 0
      },
      "text/plain": [
       "  0%|          | 0/100 [00:00<?, ?it/s]"
      ]
     },
     "metadata": {},
     "output_type": "display_data"
    },
    {
     "name": "stdout",
     "output_type": "stream",
     "text": [
      "contentPlanned parenthood, Joseph Mengele, and Adolf Hitler salute you. You've done well for the 3rd Reich. \n",
      " content filtering policies error, skip the content\n",
      "content@user Hell it may be their idea to flood Europe with Muslims and then the take over begins world wide towel head dominance \n",
      " content filtering policies error, skip the content\n",
      "content@user Quran says when flag of islam flies over every country, the 12th IMAM SHALL RISE UP OUT OF FIRE &amp; SMOKE &amp; rule his domain.\" \n",
      " content filtering policies error, skip the content\n",
      "content*white supremacists have ن in their bios*twitter: racists hate muslims because they're sad about how christians are treated in the ME \n",
      " content filtering policies error, skip the content\n",
      "contentperfect pussy clips #vanessa hudgens zac efron naked \n",
      " content filtering policies error, skip the content\n",
      "contentspace ride just are Gay  How marriage and jews fat niggas  anime that or  said  he dead fuck of the pussy \n",
      " content filtering policies error, skip the content\n",
      "contentSome round by Paul Dunne at St Andrews. Shoot that tomorrow and he wins. #Ireland \n",
      " content filtering policies error, skip the content\n",
      "93\n",
      "93\n",
      "[0.3225806451612903]\n"
     ]
    },
    {
     "data": {
      "application/vnd.jupyter.widget-view+json": {
       "model_id": "bb8d61b784474b46b706fac112471677",
       "version_major": 2,
       "version_minor": 0
      },
      "text/plain": [
       "  0%|          | 0/100 [00:00<?, ?it/s]"
      ]
     },
     "metadata": {},
     "output_type": "display_data"
    },
    {
     "name": "stdout",
     "output_type": "stream",
     "text": [
      "contentSatan worshipers align with Planned Parenthood to defend the practice of chopping up babies for profit \n",
      " content filtering policies error, skip the content\n",
      "99\n",
      "99\n",
      "[0.3225806451612903, 0.6666666666666666]\n"
     ]
    },
    {
     "data": {
      "application/vnd.jupyter.widget-view+json": {
       "model_id": "82757f773c0f48108367223a6bc45ae2",
       "version_major": 2,
       "version_minor": 0
      },
      "text/plain": [
       "  0%|          | 0/100 [00:00<?, ?it/s]"
      ]
     },
     "metadata": {},
     "output_type": "display_data"
    },
    {
     "name": "stdout",
     "output_type": "stream",
     "text": [
      "content@user @user @user #Israel #Jerusalem SHABBAT SHALOM & BLESSINGS EVERYONE!!! \n",
      " content filtering policies error, skip the content\n",
      "contentSo Caitlyn Jenner may face man slaughter charges. He thought that the sex change would be easier for when she goes to prison \n",
      " content filtering policies error, skip the content\n",
      "content#TweetMovie #ux Watch #Isis #Mosul unfold at {eastern, u.s, #attack, media, #france, prosecutor, killed, army} \n",
      " content filtering policies error, skip the content\n",
      "contentANY black american that supports what Israel is doing to the palestinian people may as well go take a big old shit on MLKs grave \n",
      " content filtering policies error, skip the content\n",
      "96\n",
      "96\n",
      "[0.3225806451612903, 0.6666666666666666, 0.34375]\n"
     ]
    },
    {
     "data": {
      "application/vnd.jupyter.widget-view+json": {
       "model_id": "d33be5bba8b3412c9e5c0b3da961f660",
       "version_major": 2,
       "version_minor": 0
      },
      "text/plain": [
       "  0%|          | 0/100 [00:00<?, ?it/s]"
      ]
     },
     "metadata": {},
     "output_type": "display_data"
    },
    {
     "name": "stdout",
     "output_type": "stream",
     "text": [
      "content#TweetMovie #ux Watch #Isis #Mosul unfold at {eastern, u.s, #attack, media, #france, prosecutor, killed, army} \n",
      " content filtering policies error, skip the content\n",
      "contentGay dominican man fucks pussy for the 1st time \n",
      " content filtering policies error, skip the content\n",
      "98\n",
      "98\n",
      "[0.3225806451612903, 0.6666666666666666, 0.34375, 0.32653061224489793]\n"
     ]
    },
    {
     "data": {
      "application/vnd.jupyter.widget-view+json": {
       "model_id": "38dd6c59641b4f36b888cfe8e942653c",
       "version_major": 2,
       "version_minor": 0
      },
      "text/plain": [
       "  0%|          | 0/100 [00:00<?, ?it/s]"
      ]
     },
     "metadata": {},
     "output_type": "display_data"
    },
    {
     "name": "stdout",
     "output_type": "stream",
     "text": [
      "content@user @user Anyone #StillWithHer are ignorant of #PizzaGate or are pedophiles \n",
      " content filtering policies error, skip the content\n",
      "contentIt is reality that ISIS are on the march in Turkey and Erdogan can't wait to receive them with open arms \n",
      " content filtering policies error, skip the content\n",
      "contentDakota Access Pipeline Protestor Sophia Wilansky Injured By Protestors Homemade Bombshttps://t.co/3NkcojStXW via @user \n",
      " content filtering policies error, skip the content\n",
      "content@user Quran says when flag of islam flies over every country, the 12th IMAM SHALL RISE UP OUT OF FIRE &amp; SMOKE &amp; rule his domain.\" \n",
      " content filtering policies error, skip the content\n",
      "contentANY black american that supports what Israel is doing to the palestinian people may as well go take a big old shit on MLKs grave \n",
      " content filtering policies error, skip the content\n",
      "95\n",
      "95\n",
      "[0.3225806451612903, 0.6666666666666666, 0.34375, 0.32653061224489793, 0.4421052631578947]\n"
     ]
    },
    {
     "data": {
      "application/vnd.jupyter.widget-view+json": {
       "model_id": "64e96258319c4d229b2f4e5ce3f5e452",
       "version_major": 2,
       "version_minor": 0
      },
      "text/plain": [
       "  0%|          | 0/100 [00:00<?, ?it/s]"
      ]
     },
     "metadata": {},
     "output_type": "display_data"
    },
    {
     "name": "stdout",
     "output_type": "stream",
     "text": [
      "content#SteveBannon is the Racist Far-Right Internet Personified — and He Ha… \n",
      " content filtering policies error, skip the content\n",
      "content#PTSD sufferers can light up a blunt in #NewJersey now; Christie says it's okay \n",
      " content filtering policies error, skip the content\n",
      "contentStop #fracking #Cuadrilla persecuting land defenders through the legal system #BankruptCuadrilla #ECOCIDE \n",
      " content filtering policies error, skip the content\n",
      "content@user @user @user when Neb comes down here tomorrow I'm gonna knock the sled of his head then beat the fuck outta him with it \n",
      " content filtering policies error, skip the content\n",
      "contentNicki better release a raunchy vid for trini Dem girls so it can get her 1st grammy \n",
      " content filtering policies error, skip the content\n",
      "95\n",
      "95\n",
      "[0.3225806451612903, 0.6666666666666666, 0.34375, 0.32653061224489793, 0.4421052631578947, 0.3473684210526316]\n"
     ]
    },
    {
     "data": {
      "application/vnd.jupyter.widget-view+json": {
       "model_id": "cc04fa8faca444ceba06e69a8565700b",
       "version_major": 2,
       "version_minor": 0
      },
      "text/plain": [
       "  0%|          | 0/100 [00:00<?, ?it/s]"
      ]
     },
     "metadata": {},
     "output_type": "display_data"
    },
    {
     "name": "stdout",
     "output_type": "stream",
     "text": [
      "contentTurkey is #ISIS itself @user @user @user @user @user #BlackFridayTactics \n",
      " content filtering policies error, skip the content\n",
      "content@user @user I learned Basket Weaving for my deplorables.And I love a good mani/pedi & couples massage with you, handsome 😘 \n",
      " content filtering policies error, skip the content\n",
      "content@user did of any good was kept Labour/Greens out for 3 years. He should have gone 4 an important rights legacy: #euthanasia \n",
      " content filtering policies error, skip the content\n",
      "97\n",
      "97\n",
      "[0.3225806451612903, 0.6666666666666666, 0.34375, 0.32653061224489793, 0.4421052631578947, 0.3473684210526316, 0.3711340206185567]\n"
     ]
    },
    {
     "data": {
      "application/vnd.jupyter.widget-view+json": {
       "model_id": "3302342fd94143e5829d3b0ccaf749de",
       "version_major": 2,
       "version_minor": 0
      },
      "text/plain": [
       "  0%|          | 0/100 [00:00<?, ?it/s]"
      ]
     },
     "metadata": {},
     "output_type": "display_data"
    },
    {
     "name": "stdout",
     "output_type": "stream",
     "text": [
      "content@user @user sweet jesus valentines day is gonna be a too lewd for titter \n",
      " content filtering policies error, skip the content\n",
      "content#ISIS Magazine DABIQ - ISSUE 8https://t.co/JF9wos9esV \n",
      " content filtering policies error, skip the content\n",
      "contentDakota Access Pipeline Protestor Sophia Wilansky Injured By Protestors Homemade Bombshttps://t.co/3NkcojStXW via @user \n",
      " content filtering policies error, skip the content\n",
      "contentPaper Towns comes out tomorrow and I'm going to see I after work and omg I'm so happy I could literally pee myself with excitement \n",
      " content filtering policies error, skip the content\n",
      "96\n",
      "96\n",
      "[0.3225806451612903, 0.6666666666666666, 0.34375, 0.32653061224489793, 0.4421052631578947, 0.3473684210526316, 0.3711340206185567, 0.3541666666666667]\n"
     ]
    },
    {
     "data": {
      "application/vnd.jupyter.widget-view+json": {
       "model_id": "ee6f7c307a234a3594643aea026ae607",
       "version_major": 2,
       "version_minor": 0
      },
      "text/plain": [
       "  0%|          | 0/100 [00:00<?, ?it/s]"
      ]
     },
     "metadata": {},
     "output_type": "display_data"
    },
    {
     "name": "stdout",
     "output_type": "stream",
     "text": [
      "contentGay dominican man fucks pussy for the 1st time \n",
      " content filtering policies error, skip the content\n",
      "contentWhat will happen to the clemency plea before the President? SC says Yakub can be executed on Thursday. \n",
      " content filtering policies error, skip the content\n",
      "contentmay Allah curse  these Muslims drag queen in the same way. That Allah punished the people of Lut Ameen \n",
      " content filtering policies error, skip the content\n",
      "contentChristians snapchat story makes me want to kill myself..like I feel like a depressed 8th grader going through that emo phase \n",
      " content filtering policies error, skip the content\n",
      "content@user @user @user when Neb comes down here tomorrow I'm gonna knock the sled of his head then beat the fuck outta him with it \n",
      " content filtering policies error, skip the content\n",
      "95\n",
      "95\n",
      "[0.3225806451612903, 0.6666666666666666, 0.34375, 0.32653061224489793, 0.4421052631578947, 0.3473684210526316, 0.3711340206185567, 0.3541666666666667, 0.5473684210526316]\n"
     ]
    },
    {
     "data": {
      "application/vnd.jupyter.widget-view+json": {
       "model_id": "e0a04daf70ce4562a51e7085240cf1ff",
       "version_major": 2,
       "version_minor": 0
      },
      "text/plain": [
       "  0%|          | 0/100 [00:00<?, ?it/s]"
      ]
     },
     "metadata": {},
     "output_type": "display_data"
    },
    {
     "name": "stdout",
     "output_type": "stream",
     "text": [
      "contentIf my stomach still feels funny tomorrow\\u002c I\\u2019m going to punch one\\u002c or possibly all\\u002c of the Jordan kids right in the kidneys. \n",
      " content filtering policies error, skip the content\n",
      "content*Excellent* >> Europe: Let's Self-destruct! #EU #jihad #hijra #isis #muslims #migrants \n",
      " content filtering policies error, skip the content\n",
      "contentUno menos. Now #Lat have three more left to die: Raul, Maduro and Morales. \n",
      " content filtering policies error, skip the content\n",
      "content#is sex important in marriage free gay picture sex teen \n",
      " content filtering policies error, skip the content\n",
      "96\n",
      "96\n",
      "[0.3225806451612903, 0.6666666666666666, 0.34375, 0.32653061224489793, 0.4421052631578947, 0.3473684210526316, 0.3711340206185567, 0.3541666666666667, 0.5473684210526316, 0.3020833333333333]\n",
      "average accuracy over  10  times of test is : 0.402375404995457\n"
     ]
    }
   ],
   "source": [
    "# 10 times 100 samples\n",
    "openai.api_type = \"azure\" \n",
    "openai.api_base = \"https://bsaiuks.openai.azure.com/\"\n",
    "openai.api_version = \"2023-03-15-preview\" \n",
    "openai.api_key = \"openai_key\"\n",
    "\n",
    "acc = []\n",
    "t = 10\n",
    "for  turn in tqdm(range(t)):\n",
    "    \n",
    "    df = full_df.sample(n = 100,ignore_index = True)\n",
    "    i = 0\n",
    "    minus = 0\n",
    "    pred = []\n",
    "    length = len(df)\n",
    "    pbar = tqdm(total = length, miniters=10)\n",
    "\n",
    "    while i < length:\n",
    "        try:\n",
    "            sentence_input = df.iloc[:,0][i]\n",
    "            response = openai.ChatCompletion.create( \n",
    "            engine=\"gpt-35-turbo\", \n",
    "            messages = [{\"role\":\"system\",\"content\":\"You will be provided with a sentence, \\\n",
    "                                                    and your task is to classify its sentiment as \\\n",
    "                                                    positive with label 2,or natural with label 1, negative with label 0.\\\n",
    "                                                    Answer label in ()\"},\n",
    "                        {\"role\":\"user\",\"content\":sentence_input},], \n",
    "                        temperature=0.7, \n",
    "                        max_tokens=800, \n",
    "                        top_p=0.95, \n",
    "                        frequency_penalty=0,\n",
    "                        presence_penalty=0, \n",
    "                        stop=None\n",
    "                        )\n",
    "            \n",
    "            p = response[\"choices\"][0][\"message\"].content\n",
    "            pred.append(p[p.find(\"(\")+1:p.find(\")\")])\n",
    "            i += 1\n",
    "            pbar.update()\n",
    "            \n",
    "        except:\n",
    "            print(\"content: \" + sentence_input + \"\\nContent filtering policies error, skip the content\")\n",
    "            time.sleep(1)\n",
    "            i += 1\n",
    "            minus += 1\n",
    "        #except:\n",
    "        #    print(\"other error\")\n",
    "        #    time.sleep(1)\n",
    "    pbar.close()\n",
    "    label = [str(x) for x in df.iloc[:,1][:i-minus]]\n",
    "    acc.append(accuracy(pred, label))\n",
    "    print(acc)\n",
    "print(\"average accuracy over \", t ,\" times of test is :\",np.mean(acc))"
   ]
  },
  {
   "cell_type": "code",
   "execution_count": 5,
   "metadata": {},
   "outputs": [],
   "source": [
    "accs = [str(k) for k in acc]\n",
    "with open(r\"result.txt\", 'w') as fp:\n",
    "    fp.write('\\n'.join(accs))"
   ]
  },
  {
   "cell_type": "code",
   "execution_count": 65,
   "metadata": {},
   "outputs": [
    {
     "name": "stdout",
     "output_type": "stream",
     "text": [
      "Based upon its unique fiber expertise and innovative approach , the company has a strong market position in several business areas in which it operates . 2\n",
      "Finnish software developer Done Solutions Oyj said its net profit increased to 3.5 mln euro ( $ 4.6 mln ) in 2006 from 2.3 mln euro ( $ 3.0 mln ) in 2005 . 2\n",
      "$ETN UPGRADE today by MS to overweight.  Excellent company and leadership 2\n",
      "\n"
     ]
    }
   ],
   "source": [
    "#examples generate\n",
    "few_shot_examples = \"\"\n",
    "for i in range(0,3):\n",
    "    few_shot_examples = few_shot_examples + df[\"Sentence\"][i] + \" \" + str(df['Sentiment'][i]) + \"\\n\"\n",
    "print(few_shot_examples)"
   ]
  },
  {
   "cell_type": "code",
   "execution_count": 9,
   "metadata": {},
   "outputs": [
    {
     "data": {
      "text/plain": [
       "'1'"
      ]
     },
     "execution_count": 9,
     "metadata": {},
     "output_type": "execute_result"
    }
   ],
   "source": [
    "#test for 3-shots evaluation    \n",
    "openai.api_type = \"azure\" \n",
    "openai.api_base = \"https://bsaiuks.openai.azure.com/\"\n",
    "openai.api_version = \"2023-03-15-preview\" \n",
    "openai.api_key = \"openai_key\"\n",
    "\n",
    "sentence_input = full_df['Sentence'][27]\n",
    "response = openai.ChatCompletion.create( \n",
    "engine=\"gpt-4\", \n",
    "messages = [{\"role\":\"system\",\"content\":\"You will be provided with a sentence, \\\n",
    "                                                and your task is to classify its sentiment as \\\n",
    "                                                positive with label 2,or neutral with label 1, or negative with label 0. \\\n",
    "                                                Answer in ()\"},\n",
    "                    {\"role\":\"user\",\"content\":sentence_input},], \n",
    "                    temperature=0.7, \n",
    "                    max_tokens=800, \n",
    "                    top_p=0.95, \n",
    "                    frequency_penalty=0,\n",
    "                    presence_penalty=0, \n",
    "                    stop=None\n",
    "                    )\n",
    "p = response[\"choices\"][0][\"message\"].content\n",
    "p = p[p.find(\"(\")+1:p.find(\")\")]\n",
    "p"
   ]
  }
 ],
 "metadata": {
  "kernelspec": {
   "display_name": "llama2-7b",
   "language": "python",
   "name": "python3"
  },
  "language_info": {
   "codemirror_mode": {
    "name": "ipython",
    "version": 3
   },
   "file_extension": ".py",
   "mimetype": "text/x-python",
   "name": "python",
   "nbconvert_exporter": "python",
   "pygments_lexer": "ipython3",
   "version": "3.11.4"
  },
  "orig_nbformat": 4
 },
 "nbformat": 4,
 "nbformat_minor": 2
}
